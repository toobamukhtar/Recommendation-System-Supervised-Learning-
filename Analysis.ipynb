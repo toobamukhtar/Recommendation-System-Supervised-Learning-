{
 "cells": [
  {
   "cell_type": "markdown",
   "metadata": {},
   "source": [
    "# Designing a Supervised Learning Model  <br>\n",
    "\n",
    "\n",
    " - Takes in an input URL of news specific to Pakistan.\n",
    " - Designing a text-based model that could extract meaningful information to display to users.\n",
    " - Provide suggestions of articles that provide a different viewpoint than the one projected\n",
    "by the input article"
   ]
  },
  {
   "cell_type": "markdown",
   "metadata": {},
   "source": [
    "###  Importing Libraries"
   ]
  },
  {
   "cell_type": "code",
   "execution_count": 27,
   "metadata": {},
   "outputs": [],
   "source": [
    "import json\n",
    "import newspaper\n",
    "from newspaper import Article\n",
    "from time import mktime\n",
    "from datetime import datetime\n",
    "import pandas as pd\n",
    "import numpy as np\n",
    "import seaborn as sns\n",
    "import matplotlib.pyplot as plt\n",
    "%matplotlib inline\n",
    "import seaborn as sns\n",
    "from sklearn.metrics import confusion_matrix as cm\n",
    "import requests\n",
    "from bs4 import BeautifulSoup\n",
    "import time\n",
    "from requests import get\n",
    "from tqdm import tqdm\n",
    "from datetime import datetime\n",
    "import re # To use regular expressions\n",
    "import string\n",
    "import nltk\n",
    "from nltk.stem import PorterStemmer\n",
    "from nltk.tokenize import RegexpTokenizer\n",
    "from nltk.corpus import stopwords\n",
    "import unicodedata\n",
    "import inflect\n",
    "from bs4 import BeautifulSoup\n",
    "from nltk import word_tokenize, sent_tokenize\n",
    "from nltk.stem import LancasterStemmer, WordNetLemmatizer\n",
    "from sklearn.model_selection import train_test_split\n",
    "from sklearn.feature_extraction.text import CountVectorizer\n",
    "from sklearn.feature_extraction.text import TfidfVectorizer\n",
    "from sklearn.metrics import classification_report, accuracy_score\n",
    "from sklearn.linear_model import SGDClassifier\n",
    "from sklearn.pipeline import Pipeline\n",
    "from sklearn.linear_model import LogisticRegression\n",
    "from sklearn import metrics\n",
    "from sklearn.metrics import mean_squared_error\n",
    "from sklearn import svm\n",
    "from sklearn.naive_bayes import MultinomialNB\n",
    "from sklearn.model_selection import GridSearchCV\n",
    "from sklearn import model_selection\n",
    "from sklearn.linear_model import LogisticRegression\n",
    "from wordcloud import WordCloud\n",
    "from textblob import TextBlob\n",
    "from gensim.models.word2vec import Word2Vec\n",
    "from nltk import sent_tokenize"
   ]
  },
  {
   "cell_type": "markdown",
   "metadata": {},
   "source": [
    "### Extracting URL from a webpage\n",
    " - The archival data from Pakistan Today was taken regarding Elections 2018.\n",
    " - Used BeautifulSoup to parse the html page of the search results of \"Elections 2018\"\n",
    " - Ietrated through first 5 pages of the search results to extract the 85 articles.\n",
    " - We extracted the relevant articles using the html tags to find the links of the articles and their content.\n",
    " -   The url and title of the articles was appended into a list."
   ]
  },
  {
   "cell_type": "code",
   "execution_count": 3,
   "metadata": {},
   "outputs": [],
   "source": [
    "# To extract the URLs from a webpage \n",
    "urls = []\n",
    "title = []\n",
    "for i in range(1,6):      # Loop through first 5 pages and extract articles \n",
    "    url = \"https://www.pakistantoday.com.pk/page/{}/?s=elections+2018&submit=Search#038;submit=Search\".format(i)\n",
    "    resp = requests.get(url)\n",
    "    soup = BeautifulSoup(resp.text, 'html.parser')\n",
    "    title_containers = soup.find_all('div', class_ = 'post-inner')\n",
    "    for article in title_containers:\n",
    "        name = article.a.text\n",
    "        title.append(name)\n",
    "    for h in soup.find_all('h1'):\n",
    "        a = h.find('a')\n",
    "        try:\n",
    "            if 'href' in a.attrs:\n",
    "                urls.append(a.attrs['href'])\n",
    "        except:\n",
    "            pass"
   ]
  },
  {
   "cell_type": "markdown",
   "metadata": {},
   "source": [
    " - We omit every 19th link of the article since there are 19 articles on a single page so whenever we get the articles from a new page the first link is the one which references to that page and not the article itself. \n",
    " - There were 5 of these URL's in total and since they are of no use we omit them.\n",
    " - The total entries after discarding these links are 85."
   ]
  },
  {
   "cell_type": "code",
   "execution_count": 4,
   "metadata": {},
   "outputs": [],
   "source": [
    "discard = \"https://www.pakistantoday.com.pk/\"\n",
    "while discard in urls: \n",
    "    urls.remove(discard)   "
   ]
  },
  {
   "cell_type": "markdown",
   "metadata": {},
   "source": [
    "### Labels\n",
    " - Since we are doing supervised learning so we need labels for the 85 articles we collected.\n",
    " - The labelling is done manually after reading the articles and splitting them into 2 categories.\n",
    " - Biased articles are represented by 1 and unbiased are represented by 0. We chose to represent the unverifies category under the biased articles since there was no way to verify these articles as such.\n"
   ]
  },
  {
   "cell_type": "code",
   "execution_count": 18,
   "metadata": {},
   "outputs": [
    {
     "data": {
      "text/plain": [
       "85"
      ]
     },
     "execution_count": 18,
     "metadata": {},
     "output_type": "execute_result"
    }
   ],
   "source": [
    "labels = [0,0,0,1,0,1,0,1,1,0,0,0,0,1,1,1,0,0,1,0,0,0,1,0,1,1,0,0,1,0,1,1,1,0,1,1,1,0,0,1,0,1,0,0,0,0,0,\n",
    "          0,0,1,0,1,0,0,0,1,0,1,1,1,0,0,0,0,0,1,0,0,0,0,0,0,0,1,0,1,0,0,0,0,0,1,0,1,0]\n",
    "len(labels)"
   ]
  },
  {
   "cell_type": "markdown",
   "metadata": {},
   "source": [
    "### Downloading Articles"
   ]
  },
  {
   "cell_type": "code",
   "execution_count": 7,
   "metadata": {},
   "outputs": [
    {
     "name": "stderr",
     "output_type": "stream",
     "text": [
      "100%|██████████| 85/85 [03:42<00:00,  2.51s/it]\n"
     ]
    }
   ],
   "source": [
    "content = []\n",
    "for i in tqdm(urls):\n",
    "    article = Article(i)\n",
    "    article.download()\n",
    "    article.parse()\n",
    "    content.append(article.text)"
   ]
  },
  {
   "cell_type": "code",
   "execution_count": 8,
   "metadata": {},
   "outputs": [
    {
     "name": "stdout",
     "output_type": "stream",
     "text": [
      "85\n",
      "85\n",
      "85\n"
     ]
    }
   ],
   "source": [
    "print(len(urls))\n",
    "print(len(title))\n",
    "print(len(content))"
   ]
  },
  {
   "cell_type": "markdown",
   "metadata": {},
   "source": [
    "### Creating Dataframe\n",
    " - We created a dataframe for all the articles with their title, link, content and respective labels to be later used up in our exploratory data analysis\n",
    " "
   ]
  },
  {
   "cell_type": "code",
   "execution_count": 24,
   "metadata": {},
   "outputs": [
    {
     "name": "stdout",
     "output_type": "stream",
     "text": [
      "<class 'pandas.core.frame.DataFrame'>\n",
      "RangeIndex: 85 entries, 0 to 84\n",
      "Data columns (total 4 columns):\n",
      "Title      85 non-null object\n",
      "Link       85 non-null object\n",
      "Content    85 non-null object\n",
      "Labels     85 non-null int64\n",
      "dtypes: int64(1), object(3)\n",
      "memory usage: 2.7+ KB\n",
      "None\n"
     ]
    }
   ],
   "source": [
    "information = {'Title':title, \n",
    "        'Link':urls, \n",
    "        'Content':content,\n",
    "        'Labels':labels}\n",
    "data = pd.DataFrame(data=information)\n",
    "print(data.info())"
   ]
  },
  {
   "cell_type": "code",
   "execution_count": 25,
   "metadata": {},
   "outputs": [
    {
     "data": {
      "text/html": [
       "<div>\n",
       "<style scoped>\n",
       "    .dataframe tbody tr th:only-of-type {\n",
       "        vertical-align: middle;\n",
       "    }\n",
       "\n",
       "    .dataframe tbody tr th {\n",
       "        vertical-align: top;\n",
       "    }\n",
       "\n",
       "    .dataframe thead th {\n",
       "        text-align: right;\n",
       "    }\n",
       "</style>\n",
       "<table border=\"1\" class=\"dataframe\">\n",
       "  <thead>\n",
       "    <tr style=\"text-align: right;\">\n",
       "      <th></th>\n",
       "      <th>Title</th>\n",
       "      <th>Link</th>\n",
       "      <th>Content</th>\n",
       "      <th>Labels</th>\n",
       "    </tr>\n",
       "  </thead>\n",
       "  <tbody>\n",
       "    <tr>\n",
       "      <th>0</th>\n",
       "      <td>LIVE: By-elections 2018 unofficial results</td>\n",
       "      <td>https://www.pakistantoday.com.pk/2018/10/14/li...</td>\n",
       "      <td>by News Desk , (Last Updated October 14, 2018)...</td>\n",
       "      <td>0</td>\n",
       "    </tr>\n",
       "    <tr>\n",
       "      <th>1</th>\n",
       "      <td>Elections 2018: Political leaders, prominent p...</td>\n",
       "      <td>https://www.pakistantoday.com.pk/2018/07/25/el...</td>\n",
       "      <td>LAHORE/ISLAMABAD/KARACHI: Several political le...</td>\n",
       "      <td>0</td>\n",
       "    </tr>\n",
       "    <tr>\n",
       "      <th>2</th>\n",
       "      <td>Elections 2018: Pak-Afghan borders to remain c...</td>\n",
       "      <td>https://www.pakistantoday.com.pk/2018/07/24/el...</td>\n",
       "      <td>ISLAMABAD: Pakistan’s borders with Afghanistan...</td>\n",
       "      <td>0</td>\n",
       "    </tr>\n",
       "    <tr>\n",
       "      <th>3</th>\n",
       "      <td>Elections 2018: Presiding officer from PS-93 a...</td>\n",
       "      <td>https://www.pakistantoday.com.pk/2018/07/23/el...</td>\n",
       "      <td>KARACHI: The Sindh Police on Monday arrested a...</td>\n",
       "      <td>1</td>\n",
       "    </tr>\n",
       "    <tr>\n",
       "      <th>4</th>\n",
       "      <td>Elections 2018: ECP encourages women participa...</td>\n",
       "      <td>https://www.pakistantoday.com.pk/2018/07/22/el...</td>\n",
       "      <td>ISLAMABAD: Two provincial chapters of the Elec...</td>\n",
       "      <td>0</td>\n",
       "    </tr>\n",
       "  </tbody>\n",
       "</table>\n",
       "</div>"
      ],
      "text/plain": [
       "                                               Title  \\\n",
       "0         LIVE: By-elections 2018 unofficial results   \n",
       "1  Elections 2018: Political leaders, prominent p...   \n",
       "2  Elections 2018: Pak-Afghan borders to remain c...   \n",
       "3  Elections 2018: Presiding officer from PS-93 a...   \n",
       "4  Elections 2018: ECP encourages women participa...   \n",
       "\n",
       "                                                Link  \\\n",
       "0  https://www.pakistantoday.com.pk/2018/10/14/li...   \n",
       "1  https://www.pakistantoday.com.pk/2018/07/25/el...   \n",
       "2  https://www.pakistantoday.com.pk/2018/07/24/el...   \n",
       "3  https://www.pakistantoday.com.pk/2018/07/23/el...   \n",
       "4  https://www.pakistantoday.com.pk/2018/07/22/el...   \n",
       "\n",
       "                                             Content  Labels  \n",
       "0  by News Desk , (Last Updated October 14, 2018)...       0  \n",
       "1  LAHORE/ISLAMABAD/KARACHI: Several political le...       0  \n",
       "2  ISLAMABAD: Pakistan’s borders with Afghanistan...       0  \n",
       "3  KARACHI: The Sindh Police on Monday arrested a...       1  \n",
       "4  ISLAMABAD: Two provincial chapters of the Elec...       0  "
      ]
     },
     "execution_count": 25,
     "metadata": {},
     "output_type": "execute_result"
    }
   ],
   "source": [
    "data.head()"
   ]
  },
  {
   "cell_type": "markdown",
   "metadata": {},
   "source": [
    "#### Storing and Loading data\n",
    " - We stored the data into a JSON file to be later loaded into a dataframe whenver we need it.\n",
    " - We chose JSON format to store the data since it is easy to use and it is fast in terms of performance."
   ]
  },
  {
   "cell_type": "code",
   "execution_count": 26,
   "metadata": {},
   "outputs": [],
   "source": [
    "data.to_json('PT.json')"
   ]
  },
  {
   "cell_type": "code",
   "execution_count": 212,
   "metadata": {},
   "outputs": [],
   "source": [
    "elections = pd.read_json('PT.json')"
   ]
  },
  {
   "cell_type": "code",
   "execution_count": 213,
   "metadata": {},
   "outputs": [
    {
     "data": {
      "text/html": [
       "<div>\n",
       "<style scoped>\n",
       "    .dataframe tbody tr th:only-of-type {\n",
       "        vertical-align: middle;\n",
       "    }\n",
       "\n",
       "    .dataframe tbody tr th {\n",
       "        vertical-align: top;\n",
       "    }\n",
       "\n",
       "    .dataframe thead th {\n",
       "        text-align: right;\n",
       "    }\n",
       "</style>\n",
       "<table border=\"1\" class=\"dataframe\">\n",
       "  <thead>\n",
       "    <tr style=\"text-align: right;\">\n",
       "      <th></th>\n",
       "      <th>Title</th>\n",
       "      <th>Link</th>\n",
       "      <th>Content</th>\n",
       "      <th>Labels</th>\n",
       "    </tr>\n",
       "  </thead>\n",
       "  <tbody>\n",
       "    <tr>\n",
       "      <th>0</th>\n",
       "      <td>LIVE: By-elections 2018 unofficial results</td>\n",
       "      <td>https://www.pakistantoday.com.pk/2018/10/14/li...</td>\n",
       "      <td>by News Desk , (Last Updated October 14, 2018)...</td>\n",
       "      <td>0</td>\n",
       "    </tr>\n",
       "    <tr>\n",
       "      <th>1</th>\n",
       "      <td>Elections 2018: Political leaders, prominent p...</td>\n",
       "      <td>https://www.pakistantoday.com.pk/2018/07/25/el...</td>\n",
       "      <td>LAHORE/ISLAMABAD/KARACHI: Several political le...</td>\n",
       "      <td>0</td>\n",
       "    </tr>\n",
       "    <tr>\n",
       "      <th>10</th>\n",
       "      <td>Elections 2018: Appellate tribunal rejects Ash...</td>\n",
       "      <td>https://www.pakistantoday.com.pk/2018/06/28/el...</td>\n",
       "      <td>LAHORE: Tehreek-e-Labaik Ya Rasool Allah (TLYR...</td>\n",
       "      <td>0</td>\n",
       "    </tr>\n",
       "    <tr>\n",
       "      <th>11</th>\n",
       "      <td>Elections 2018: ECP issues guidelines for medi...</td>\n",
       "      <td>https://www.pakistantoday.com.pk/2018/06/27/el...</td>\n",
       "      <td>ISLAMABAD: The Election Commission of Pakistan...</td>\n",
       "      <td>0</td>\n",
       "    </tr>\n",
       "    <tr>\n",
       "      <th>12</th>\n",
       "      <td>Elections 2018: PTI issues tickets to 13 femal...</td>\n",
       "      <td>https://www.pakistantoday.com.pk/2018/06/25/el...</td>\n",
       "      <td>ISLAMABAD: Pakistan Tehreek-e-Insaf (PTI) on M...</td>\n",
       "      <td>0</td>\n",
       "    </tr>\n",
       "  </tbody>\n",
       "</table>\n",
       "</div>"
      ],
      "text/plain": [
       "                                                Title  \\\n",
       "0          LIVE: By-elections 2018 unofficial results   \n",
       "1   Elections 2018: Political leaders, prominent p...   \n",
       "10  Elections 2018: Appellate tribunal rejects Ash...   \n",
       "11  Elections 2018: ECP issues guidelines for medi...   \n",
       "12  Elections 2018: PTI issues tickets to 13 femal...   \n",
       "\n",
       "                                                 Link  \\\n",
       "0   https://www.pakistantoday.com.pk/2018/10/14/li...   \n",
       "1   https://www.pakistantoday.com.pk/2018/07/25/el...   \n",
       "10  https://www.pakistantoday.com.pk/2018/06/28/el...   \n",
       "11  https://www.pakistantoday.com.pk/2018/06/27/el...   \n",
       "12  https://www.pakistantoday.com.pk/2018/06/25/el...   \n",
       "\n",
       "                                              Content  Labels  \n",
       "0   by News Desk , (Last Updated October 14, 2018)...       0  \n",
       "1   LAHORE/ISLAMABAD/KARACHI: Several political le...       0  \n",
       "10  LAHORE: Tehreek-e-Labaik Ya Rasool Allah (TLYR...       0  \n",
       "11  ISLAMABAD: The Election Commission of Pakistan...       0  \n",
       "12  ISLAMABAD: Pakistan Tehreek-e-Insaf (PTI) on M...       0  "
      ]
     },
     "execution_count": 213,
     "metadata": {},
     "output_type": "execute_result"
    }
   ],
   "source": [
    "elections.head()"
   ]
  },
  {
   "cell_type": "markdown",
   "metadata": {},
   "source": [
    "### Preprocessing\n",
    "- We converted each preprocessing step into a function\n",
    "- Used the tutorials from kdnuggets.com to understand text pre-processing"
   ]
  },
  {
   "cell_type": "code",
   "execution_count": 214,
   "metadata": {},
   "outputs": [],
   "source": [
    "def stem_words(words):\n",
    "    stemmer = LancasterStemmer()\n",
    "    words = [stemmer.stem(word) for word in words]\n",
    "    return words\n",
    "\n",
    "def lemmatize_verbs(words):\n",
    "    lemmatizer = WordNetLemmatizer()\n",
    "    words = [lemmatizer.lemmatize(word, pos='v') for word in words]\n",
    "    return words"
   ]
  },
  {
   "cell_type": "code",
   "execution_count": 217,
   "metadata": {},
   "outputs": [],
   "source": [
    "def remove_non_ascii(words):\n",
    "    words = [unicodedata.normalize('NFKD', word).encode('ascii', 'ignore').decode('utf-8', 'ignore') for word in words]\n",
    "    return words\n",
    "# The first pre-processing step which we will do is transform our tweets into lower case.\n",
    "# This avoids having multiple copies of the same words\n",
    "def to_lowercase(words):\n",
    "    words = [word.lower() for word in words]\n",
    "    return words\n",
    "# Removing punctuation to reduce the amount of the training data\n",
    "def remove_punctuation(words):\n",
    "    words = [re.sub(r'[^\\w\\s]', '', word) for word in words if re.sub(r'[^\\w\\s]', '', word) not in '']    \n",
    "    return words\n",
    "# Removing numbers from data since they aren't useful in this context.\n",
    "def replace_numbers(words):\n",
    "    words = [re.sub(r'[^\\w\\s]', '', word) for word in words]\n",
    "    return words\n",
    "def remove_stopwords(words):\n",
    "    words = [word for word in words if word not in stopwords.words('english')]\n",
    "    return words\n",
    "def remove_date(text):\n",
    "    \"\"\"Remove (Date) string\"\"\"\n",
    "    text = re.sub(r'\\(.*?\\)', '', text)\n",
    "    return text"
   ]
  },
  {
   "cell_type": "code",
   "execution_count": 218,
   "metadata": {},
   "outputs": [],
   "source": [
    "def normalize(words):\n",
    "    words = remove_non_ascii(words)\n",
    "    words = to_lowercase(words)\n",
    "    words = remove_punctuation(words)\n",
    "    words = replace_numbers(words)\n",
    "    words = remove_stopwords(words)\n",
    "    return words"
   ]
  },
  {
   "cell_type": "code",
   "execution_count": 219,
   "metadata": {},
   "outputs": [],
   "source": [
    "elections['Content'] = elections['Content'].apply(remove_date) \n",
    "elections['tokenized_text'] = elections['Content'].apply(word_tokenize) \n",
    "elections['tokenized_text'] = elections['tokenized_text'].apply(normalize)"
   ]
  },
  {
   "cell_type": "code",
   "execution_count": 15,
   "metadata": {},
   "outputs": [],
   "source": [
    "def stem_and_lemmatize(words):\n",
    "    stems = stem_words(words)\n",
    "    lemmas = lemmatize_verbs(words)\n",
    "    return stems,lemmas\n",
    "# elections['tokenized_text'].apply(stem_and_lemmatize)"
   ]
  },
  {
   "cell_type": "markdown",
   "metadata": {},
   "source": [
    "### Data Splitting"
   ]
  },
  {
   "cell_type": "code",
   "execution_count": 220,
   "metadata": {},
   "outputs": [
    {
     "name": "stdout",
     "output_type": "stream",
     "text": [
      "X_train 68\n",
      "X_test 17\n",
      "y_train 68\n",
      "y_test 17\n"
     ]
    }
   ],
   "source": [
    "train, test = train_test_split(elections, test_size=0.2, random_state=42)\n",
    "X_train = train['tokenized_text'].values\n",
    "X_test = test['tokenized_text'].values\n",
    "y_train = train['Labels']\n",
    "y_test = test['Labels']\n",
    "print('X_train',len(X_train))\n",
    "print('X_test',len(X_test))\n",
    "print('y_train',len(y_train))\n",
    "print('y_test',len(X_test))"
   ]
  },
  {
   "cell_type": "markdown",
   "metadata": {},
   "source": [
    "### Feature Engineering\n",
    "### Feature 1: TFIDF"
   ]
  },
  {
   "cell_type": "code",
   "execution_count": 221,
   "metadata": {},
   "outputs": [
    {
     "name": "stdout",
     "output_type": "stream",
     "text": [
      "(68, 3766)\n"
     ]
    }
   ],
   "source": [
    "def fun(document):\n",
    "    return document\n",
    "\n",
    "tfidf = TfidfVectorizer(\n",
    "    analyzer='word',\n",
    "    tokenizer=fun,\n",
    "    preprocessor=fun,\n",
    "    token_pattern=None)  \n",
    "tfidf.fit(X_train)\n",
    "features_train = tfidf.transform(X_train)\n",
    "features_test = tfidf.transform(X_test)\n",
    "print(features_train.shape)"
   ]
  },
  {
   "cell_type": "markdown",
   "metadata": {},
   "source": [
    " - We stored the models and their corresponsing results to visualize them later"
   ]
  },
  {
   "cell_type": "code",
   "execution_count": 222,
   "metadata": {},
   "outputs": [],
   "source": [
    "models = ['NB','LR','SVM','Tuned-SVM']\n",
    "accuracies =[] \n",
    "mse = []"
   ]
  },
  {
   "cell_type": "markdown",
   "metadata": {},
   "source": [
    "#### Naive Bayes"
   ]
  },
  {
   "cell_type": "code",
   "execution_count": 223,
   "metadata": {},
   "outputs": [
    {
     "name": "stderr",
     "output_type": "stream",
     "text": [
      "C:\\Users\\tooba\\Anaconda3\\lib\\site-packages\\sklearn\\metrics\\classification.py:1145: UndefinedMetricWarning: Recall and F-score are ill-defined and being set to 0.0 in labels with no true samples.\n",
      "  'recall', 'true', average, warn_for)\n",
      "C:\\Users\\tooba\\Anaconda3\\lib\\site-packages\\sklearn\\metrics\\classification.py:1145: UndefinedMetricWarning: Recall and F-score are ill-defined and being set to 0.0 in labels with no true samples.\n",
      "  'recall', 'true', average, warn_for)\n",
      "C:\\Users\\tooba\\Anaconda3\\lib\\site-packages\\sklearn\\metrics\\classification.py:1145: UndefinedMetricWarning: Recall and F-score are ill-defined and being set to 0.0 in labels with no true samples.\n",
      "  'recall', 'true', average, warn_for)\n"
     ]
    },
    {
     "name": "stdout",
     "output_type": "stream",
     "text": [
      "              precision    recall  f1-score   support\n",
      "\n",
      "           0       1.00      0.53      0.69        17\n",
      "           1       0.00      0.00      0.00         0\n",
      "\n",
      "   micro avg       0.53      0.53      0.53        17\n",
      "   macro avg       0.50      0.26      0.35        17\n",
      "weighted avg       1.00      0.53      0.69        17\n",
      "\n",
      "Naive Bayes Accuracy 0.5294117647058824\n",
      "MSE 0.47058823529411764\n"
     ]
    }
   ],
   "source": [
    "model = MultinomialNB().fit(features_train, y_train)\n",
    "predicted = model.predict(features_test)\n",
    "print(classification_report(predicted,y_test))\n",
    "accuracy = model.score(features_test, y_test)\n",
    "print('Naive Bayes Accuracy',accuracy)\n",
    "error = mean_squared_error(y_test, predicted)\n",
    "print('MSE',error)\n",
    "accuracies.append(accuracy)\n",
    "mse.append(error)"
   ]
  },
  {
   "cell_type": "code",
   "execution_count": 225,
   "metadata": {},
   "outputs": [
    {
     "data": {
      "image/png": "[encoded data removed]",
      "text/plain": [
       "<Figure size 720x360 with 2 Axes>"
      ]
     },
     "metadata": {
      "needs_background": "light"
     },
     "output_type": "display_data"
    }
   ],
   "source": [
    "confusion_matrix = cm(y_test, predicted)\n",
    "fig, ax = plt.subplots(figsize=(10,5))\n",
    "sns.heatmap(confusion_matrix, annot=True, fmt='d')\n",
    "plt.ylabel('Actual')\n",
    "plt.xlabel('Predicted')\n",
    "plt.show()"
   ]
  },
  {
   "cell_type": "markdown",
   "metadata": {},
   "source": [
    "#### Logistic Regression with SGD\n",
    " - We used logistic regression with stochastic gradient descent"
   ]
  },
  {
   "cell_type": "code",
   "execution_count": 226,
   "metadata": {},
   "outputs": [
    {
     "name": "stderr",
     "output_type": "stream",
     "text": [
      "C:\\Users\\tooba\\Anaconda3\\lib\\site-packages\\sklearn\\linear_model\\stochastic_gradient.py:130: DeprecationWarning: n_iter parameter is deprecated in 0.19 and will be removed in 0.21. Use max_iter and tol instead.\n",
      "  DeprecationWarning)\n"
     ]
    },
    {
     "name": "stdout",
     "output_type": "stream",
     "text": [
      "              precision    recall  f1-score   support\n",
      "\n",
      "           0       0.89      0.67      0.76        12\n",
      "           1       0.50      0.80      0.62         5\n",
      "\n",
      "   micro avg       0.71      0.71      0.71        17\n",
      "   macro avg       0.69      0.73      0.69        17\n",
      "weighted avg       0.77      0.71      0.72        17\n",
      "\n",
      "Logistic Regression Accuracy 0.7058823529411765\n",
      "MSE 0.29411764705882354\n"
     ]
    }
   ],
   "source": [
    "final_model= SGDClassifier(loss='log', penalty='l2', alpha=1e-3, n_iter=5, random_state=42)\n",
    "final_model.fit(features_train, y_train)\n",
    "predicted_svm = final_model.predict(features_test)\n",
    "accuracy = final_model.score(features_test, y_test)\n",
    "print(classification_report(predicted_svm,y_test))\n",
    "error = mean_squared_error(y_test, predicted_svm)\n",
    "print('Logistic Regression Accuracy',accuracy)\n",
    "accuracies.append(accuracy)\n",
    "print('MSE',error)"
   ]
  },
  {
   "cell_type": "code",
   "execution_count": 227,
   "metadata": {},
   "outputs": [
    {
     "data": {
      "image/png": "[encoded data removed]",
      "text/plain": [
       "<Figure size 720x360 with 2 Axes>"
      ]
     },
     "metadata": {
      "needs_background": "light"
     },
     "output_type": "display_data"
    }
   ],
   "source": [
    "confusion_matrix = cm(y_test, predicted_svm)\n",
    "fig, ax = plt.subplots(figsize=(10,5))\n",
    "sns.heatmap(confusion_matrix, annot=True, fmt='d')\n",
    "plt.ylabel('Actual')\n",
    "plt.xlabel('Predicted')\n",
    "plt.show()"
   ]
  },
  {
   "cell_type": "markdown",
   "metadata": {},
   "source": [
    "#### SVM with SGD"
   ]
  },
  {
   "cell_type": "code",
   "execution_count": 228,
   "metadata": {},
   "outputs": [
    {
     "name": "stderr",
     "output_type": "stream",
     "text": [
      "C:\\Users\\tooba\\Anaconda3\\lib\\site-packages\\sklearn\\linear_model\\stochastic_gradient.py:130: DeprecationWarning: n_iter parameter is deprecated in 0.19 and will be removed in 0.21. Use max_iter and tol instead.\n",
      "  DeprecationWarning)\n"
     ]
    },
    {
     "name": "stdout",
     "output_type": "stream",
     "text": [
      "              precision    recall  f1-score   support\n",
      "\n",
      "           0       0.89      0.62      0.73        13\n",
      "           1       0.38      0.75      0.50         4\n",
      "\n",
      "   micro avg       0.65      0.65      0.65        17\n",
      "   macro avg       0.63      0.68      0.61        17\n",
      "weighted avg       0.77      0.65      0.67        17\n",
      "\n",
      "SVM Accuracy 0.6470588235294118\n",
      "MSE 0.35294117647058826\n"
     ]
    }
   ],
   "source": [
    "# SVM\n",
    "model= SGDClassifier(loss='hinge', penalty='l2', alpha=1e-3, n_iter=5, random_state=42)\n",
    "model.fit(features_train, y_train)\n",
    "predicted_svm = model.predict(features_test)\n",
    "print(classification_report(predicted_svm,y_test))\n",
    "accuracy = model.score(features_test, y_test)\n",
    "error = mean_squared_error(y_test, predicted_svm)\n",
    "print('SVM Accuracy',accuracy)\n",
    "print('MSE',error)\n",
    "accuracies.append(accuracy)"
   ]
  },
  {
   "cell_type": "code",
   "execution_count": 229,
   "metadata": {},
   "outputs": [
    {
     "data": {
      "image/png": "[encoded data removed]",
      "text/plain": [
       "<Figure size 720x360 with 2 Axes>"
      ]
     },
     "metadata": {
      "needs_background": "light"
     },
     "output_type": "display_data"
    }
   ],
   "source": [
    "confusion_matrix = cm(y_test, predicted_svm)\n",
    "# print(confusion_matrix)\n",
    "# TP FP( FP is Type 1 error)\n",
    "# FN TN\n",
    "fig, ax = plt.subplots(figsize=(10,5))\n",
    "sns.heatmap(confusion_matrix, annot=True, fmt='d')\n",
    "plt.ylabel('Actual')\n",
    "plt.xlabel('Predicted')\n",
    "plt.show()"
   ]
  },
  {
   "cell_type": "markdown",
   "metadata": {},
   "source": [
    "#### SVM with tuning\n",
    " - We used Grid search to find the best hyperparameters for SVM tuning"
   ]
  },
  {
   "cell_type": "code",
   "execution_count": 230,
   "metadata": {},
   "outputs": [
    {
     "name": "stderr",
     "output_type": "stream",
     "text": [
      "C:\\Users\\tooba\\Anaconda3\\lib\\site-packages\\sklearn\\model_selection\\_search.py:841: DeprecationWarning: The default of the `iid` parameter will change from True to False in version 0.22 and will be removed in 0.24. This will change numeric results when test-set sizes are unequal.\n",
      "  DeprecationWarning)\n"
     ]
    },
    {
     "name": "stdout",
     "output_type": "stream",
     "text": [
      "Best score 0.6911764705882353\n",
      "Best Parameters {'C': 10, 'gamma': 0.001}\n",
      "Best C: 10\n",
      "Best gamma: 0.001\n"
     ]
    }
   ],
   "source": [
    "# SVM with tuning\n",
    "C = [0.001, 0.01, 0.1, 1, 10]\n",
    "gamma = [0.001, 0.01, 0.1, 1]\n",
    "hyperparameters = dict(C=C, gamma=gamma)\n",
    "clf = GridSearchCV(svm.SVC(kernel='linear'), hyperparameters, cv=5)\n",
    "best_model = clf.fit(features_train, y_train)\n",
    "print('Best score',clf.best_score_)\n",
    "print('Best Parameters',clf.best_params_)\n",
    "print('Best C:', best_model.best_estimator_.get_params()['C'])\n",
    "predictions =best_model.best_estimator_.predict(features_test)\n",
    "accuracy = clf.best_score_\n",
    "print('Best gamma:', best_model.best_estimator_.get_params()['gamma'])\n",
    "accuracies.append(accuracy)"
   ]
  },
  {
   "cell_type": "markdown",
   "metadata": {},
   "source": [
    "#### Visualization of model results"
   ]
  },
  {
   "cell_type": "code",
   "execution_count": 231,
   "metadata": {},
   "outputs": [
    {
     "data": {
      "image/png": "[encoded data removed]",
      "text/plain": [
       "<Figure size 432x288 with 1 Axes>"
      ]
     },
     "metadata": {
      "needs_background": "light"
     },
     "output_type": "display_data"
    }
   ],
   "source": [
    "information = {'Model':models, \n",
    "        'Accuracy':accuracies}\n",
    "data = pd.DataFrame(data=information)\n",
    "\n",
    "sns.boxplot(x='Model', y='Accuracy', data=data)\n",
    "sns.stripplot(x='Model', y='Accuracy', data=data, size=10, jitter=True, edgecolor=\"gray\", linewidth=2)\n",
    "plt.show()"
   ]
  },
  {
   "cell_type": "markdown",
   "metadata": {},
   "source": [
    " - We can observe from the above plot that logistic regression performs the best when paired with TFIDF\n",
    "  as feature vector"
   ]
  },
  {
   "cell_type": "markdown",
   "metadata": {},
   "source": [
    "###  Feature 2: BAG OF WORDS"
   ]
  },
  {
   "cell_type": "code",
   "execution_count": 290,
   "metadata": {},
   "outputs": [
    {
     "data": {
      "text/html": [
       "<div>\n",
       "<style scoped>\n",
       "    .dataframe tbody tr th:only-of-type {\n",
       "        vertical-align: middle;\n",
       "    }\n",
       "\n",
       "    .dataframe tbody tr th {\n",
       "        vertical-align: top;\n",
       "    }\n",
       "\n",
       "    .dataframe thead th {\n",
       "        text-align: right;\n",
       "    }\n",
       "</style>\n",
       "<table border=\"1\" class=\"dataframe\">\n",
       "  <thead>\n",
       "    <tr style=\"text-align: right;\">\n",
       "      <th></th>\n",
       "      <th>Title</th>\n",
       "      <th>Link</th>\n",
       "      <th>Content</th>\n",
       "      <th>Labels</th>\n",
       "    </tr>\n",
       "  </thead>\n",
       "  <tbody>\n",
       "    <tr>\n",
       "      <th>0</th>\n",
       "      <td>LIVE: By-elections 2018 unofficial results</td>\n",
       "      <td>https://www.pakistantoday.com.pk/2018/10/14/li...</td>\n",
       "      <td>by News Desk , (Last Updated October 14, 2018)...</td>\n",
       "      <td>0</td>\n",
       "    </tr>\n",
       "    <tr>\n",
       "      <th>1</th>\n",
       "      <td>Elections 2018: Political leaders, prominent p...</td>\n",
       "      <td>https://www.pakistantoday.com.pk/2018/07/25/el...</td>\n",
       "      <td>LAHORE/ISLAMABAD/KARACHI: Several political le...</td>\n",
       "      <td>0</td>\n",
       "    </tr>\n",
       "    <tr>\n",
       "      <th>10</th>\n",
       "      <td>Elections 2018: Appellate tribunal rejects Ash...</td>\n",
       "      <td>https://www.pakistantoday.com.pk/2018/06/28/el...</td>\n",
       "      <td>LAHORE: Tehreek-e-Labaik Ya Rasool Allah (TLYR...</td>\n",
       "      <td>0</td>\n",
       "    </tr>\n",
       "    <tr>\n",
       "      <th>11</th>\n",
       "      <td>Elections 2018: ECP issues guidelines for medi...</td>\n",
       "      <td>https://www.pakistantoday.com.pk/2018/06/27/el...</td>\n",
       "      <td>ISLAMABAD: The Election Commission of Pakistan...</td>\n",
       "      <td>0</td>\n",
       "    </tr>\n",
       "    <tr>\n",
       "      <th>12</th>\n",
       "      <td>Elections 2018: PTI issues tickets to 13 femal...</td>\n",
       "      <td>https://www.pakistantoday.com.pk/2018/06/25/el...</td>\n",
       "      <td>ISLAMABAD: Pakistan Tehreek-e-Insaf (PTI) on M...</td>\n",
       "      <td>0</td>\n",
       "    </tr>\n",
       "  </tbody>\n",
       "</table>\n",
       "</div>"
      ],
      "text/plain": [
       "                                                Title  \\\n",
       "0          LIVE: By-elections 2018 unofficial results   \n",
       "1   Elections 2018: Political leaders, prominent p...   \n",
       "10  Elections 2018: Appellate tribunal rejects Ash...   \n",
       "11  Elections 2018: ECP issues guidelines for medi...   \n",
       "12  Elections 2018: PTI issues tickets to 13 femal...   \n",
       "\n",
       "                                                 Link  \\\n",
       "0   https://www.pakistantoday.com.pk/2018/10/14/li...   \n",
       "1   https://www.pakistantoday.com.pk/2018/07/25/el...   \n",
       "10  https://www.pakistantoday.com.pk/2018/06/28/el...   \n",
       "11  https://www.pakistantoday.com.pk/2018/06/27/el...   \n",
       "12  https://www.pakistantoday.com.pk/2018/06/25/el...   \n",
       "\n",
       "                                              Content  Labels  \n",
       "0   by News Desk , (Last Updated October 14, 2018)...       0  \n",
       "1   LAHORE/ISLAMABAD/KARACHI: Several political le...       0  \n",
       "10  LAHORE: Tehreek-e-Labaik Ya Rasool Allah (TLYR...       0  \n",
       "11  ISLAMABAD: The Election Commission of Pakistan...       0  \n",
       "12  ISLAMABAD: Pakistan Tehreek-e-Insaf (PTI) on M...       0  "
      ]
     },
     "execution_count": 290,
     "metadata": {},
     "output_type": "execute_result"
    }
   ],
   "source": [
    "elections = pd.read_json('PT.json')\n",
    "elections.head()"
   ]
  },
  {
   "cell_type": "code",
   "execution_count": 291,
   "metadata": {},
   "outputs": [],
   "source": [
    "elections['Content'] = elections['Content'].apply(remove_date) \n",
    "elections['tokenized_text'] = elections['Content'].apply(word_tokenize) "
   ]
  },
  {
   "cell_type": "markdown",
   "metadata": {},
   "source": [
    " - Now we see the frequency distribution of the words in the content which lists the top words used in the text which can provide us a rough idea about the topic being discussed in the text.\n",
    " - We take only one of the articles and check the frequency distribution of words in it."
   ]
  },
  {
   "cell_type": "code",
   "execution_count": 299,
   "metadata": {},
   "outputs": [
    {
     "name": "stdout",
     "output_type": "stream",
     "text": [
      "Length is: 348\n",
      "['.', 'votes', '’', 's', 'with', ':', ',', 'PTI', 'by', 'leads', 'Khan', 'followed', 'in', 'PML-N', 'and', 'results', 'who', 'the', 'by-polls', 'Muhammad', 'unofficial', 'has', 'is', 'Ali', 'Ahmed', 'second', 'won', 'unconfirmed', 'place', 'so']\n"
     ]
    }
   ],
   "source": [
    "tokens = elections['tokenized_text'][0]\n",
    "vocabulary = set(tokens)\n",
    "print('Length is:',len(vocabulary))\n",
    "frequency_dist = nltk.FreqDist(tokens)\n",
    "print(sorted(frequency_dist,key=frequency_dist.__getitem__, reverse=True)[0:30])"
   ]
  },
  {
   "cell_type": "markdown",
   "metadata": {},
   "source": [
    " - We use wordcloud to create word clouds by placing words on a canvas randomly, with sizes proportional to their frequency in the text."
   ]
  },
  {
   "cell_type": "code",
   "execution_count": 300,
   "metadata": {},
   "outputs": [
    {
     "data": {
      "image/png": "[encoded data removed]",
      "text/plain": [
       "<Figure size 800x400 with 1 Axes>"
      ]
     },
     "metadata": {
      "needs_background": "light"
     },
     "output_type": "display_data"
    }
   ],
   "source": [
    "fig = plt.figure(figsize=(20,10), dpi=40)\n",
    "wordcloud = WordCloud().generate_from_frequencies(frequency_dist)\n",
    "plt.title('Words Visualiztion',fontsize = 60)\n",
    "plt.imshow(wordcloud)\n",
    "plt.axis(\"off\")\n",
    "plt.show()"
   ]
  },
  {
   "cell_type": "markdown",
   "metadata": {},
   "source": [
    "#### Exploration of some random features to know the data\n",
    " - Number of words : We extract the number of words in each article. According to research it is said that biased(negative) sentiments usually contain a less amount of words as compared to the unbiased(postive) sentiments."
   ]
  },
  {
   "cell_type": "code",
   "execution_count": 301,
   "metadata": {},
   "outputs": [
    {
     "data": {
      "text/html": [
       "<div>\n",
       "<style scoped>\n",
       "    .dataframe tbody tr th:only-of-type {\n",
       "        vertical-align: middle;\n",
       "    }\n",
       "\n",
       "    .dataframe tbody tr th {\n",
       "        vertical-align: top;\n",
       "    }\n",
       "\n",
       "    .dataframe thead th {\n",
       "        text-align: right;\n",
       "    }\n",
       "</style>\n",
       "<table border=\"1\" class=\"dataframe\">\n",
       "  <thead>\n",
       "    <tr style=\"text-align: right;\">\n",
       "      <th></th>\n",
       "      <th>Content</th>\n",
       "      <th>word_count</th>\n",
       "      <th>Labels</th>\n",
       "    </tr>\n",
       "  </thead>\n",
       "  <tbody>\n",
       "    <tr>\n",
       "      <th>81</th>\n",
       "      <td>ISLAMABAD – Pakistan is set to become the firs...</td>\n",
       "      <td>193</td>\n",
       "      <td>1</td>\n",
       "    </tr>\n",
       "    <tr>\n",
       "      <th>82</th>\n",
       "      <td>Calls for enlisting missing women in voters’ l...</td>\n",
       "      <td>425</td>\n",
       "      <td>0</td>\n",
       "    </tr>\n",
       "    <tr>\n",
       "      <th>83</th>\n",
       "      <td>In Sindh party-cum-parochial needs override na...</td>\n",
       "      <td>369</td>\n",
       "      <td>1</td>\n",
       "    </tr>\n",
       "    <tr>\n",
       "      <th>84</th>\n",
       "      <td>PESHAWAR: Milli Muslim League  chief Professor...</td>\n",
       "      <td>530</td>\n",
       "      <td>0</td>\n",
       "    </tr>\n",
       "    <tr>\n",
       "      <th>9</th>\n",
       "      <td>RAWALPINDI: With the elections, just a few wee...</td>\n",
       "      <td>303</td>\n",
       "      <td>0</td>\n",
       "    </tr>\n",
       "  </tbody>\n",
       "</table>\n",
       "</div>"
      ],
      "text/plain": [
       "                                              Content  word_count  Labels\n",
       "81  ISLAMABAD – Pakistan is set to become the firs...         193       1\n",
       "82  Calls for enlisting missing women in voters’ l...         425       0\n",
       "83  In Sindh party-cum-parochial needs override na...         369       1\n",
       "84  PESHAWAR: Milli Muslim League  chief Professor...         530       0\n",
       "9   RAWALPINDI: With the elections, just a few wee...         303       0"
      ]
     },
     "execution_count": 301,
     "metadata": {},
     "output_type": "execute_result"
    }
   ],
   "source": [
    "elections['word_count'] = elections['Content'].apply(lambda x: len(str(x).split(\" \")))\n",
    "elections[['Content','word_count','Labels']].tail()"
   ]
  },
  {
   "cell_type": "markdown",
   "metadata": {},
   "source": [
    " - There is no clear pattern in our data as far as the number of words are concerned"
   ]
  },
  {
   "cell_type": "markdown",
   "metadata": {},
   "source": [
    " - Number of numerics : We calculate the number of digits to find any pattern or difference between the biased and unbiased articles.\n",
    " - There is no particular pattern found"
   ]
  },
  {
   "cell_type": "code",
   "execution_count": 303,
   "metadata": {},
   "outputs": [
    {
     "data": {
      "text/html": [
       "<div>\n",
       "<style scoped>\n",
       "    .dataframe tbody tr th:only-of-type {\n",
       "        vertical-align: middle;\n",
       "    }\n",
       "\n",
       "    .dataframe tbody tr th {\n",
       "        vertical-align: top;\n",
       "    }\n",
       "\n",
       "    .dataframe thead th {\n",
       "        text-align: right;\n",
       "    }\n",
       "</style>\n",
       "<table border=\"1\" class=\"dataframe\">\n",
       "  <thead>\n",
       "    <tr style=\"text-align: right;\">\n",
       "      <th></th>\n",
       "      <th>Content</th>\n",
       "      <th>numerics</th>\n",
       "      <th>Labels</th>\n",
       "    </tr>\n",
       "  </thead>\n",
       "  <tbody>\n",
       "    <tr>\n",
       "      <th>81</th>\n",
       "      <td>ISLAMABAD – Pakistan is set to become the firs...</td>\n",
       "      <td>0</td>\n",
       "      <td>1</td>\n",
       "    </tr>\n",
       "    <tr>\n",
       "      <th>82</th>\n",
       "      <td>Calls for enlisting missing women in voters’ l...</td>\n",
       "      <td>4</td>\n",
       "      <td>0</td>\n",
       "    </tr>\n",
       "    <tr>\n",
       "      <th>83</th>\n",
       "      <td>In Sindh party-cum-parochial needs override na...</td>\n",
       "      <td>3</td>\n",
       "      <td>1</td>\n",
       "    </tr>\n",
       "    <tr>\n",
       "      <th>84</th>\n",
       "      <td>PESHAWAR: Milli Muslim League  chief Professor...</td>\n",
       "      <td>3</td>\n",
       "      <td>0</td>\n",
       "    </tr>\n",
       "    <tr>\n",
       "      <th>9</th>\n",
       "      <td>RAWALPINDI: With the elections, just a few wee...</td>\n",
       "      <td>1</td>\n",
       "      <td>0</td>\n",
       "    </tr>\n",
       "  </tbody>\n",
       "</table>\n",
       "</div>"
      ],
      "text/plain": [
       "                                              Content  numerics  Labels\n",
       "81  ISLAMABAD – Pakistan is set to become the firs...         0       1\n",
       "82  Calls for enlisting missing women in voters’ l...         4       0\n",
       "83  In Sindh party-cum-parochial needs override na...         3       1\n",
       "84  PESHAWAR: Milli Muslim League  chief Professor...         3       0\n",
       "9   RAWALPINDI: With the elections, just a few wee...         1       0"
      ]
     },
     "execution_count": 303,
     "metadata": {},
     "output_type": "execute_result"
    }
   ],
   "source": [
    "elections['numerics'] = elections['Content'].apply(lambda x: len([x for x in x.split() if x.isdigit()]))\n",
    "elections[['Content','numerics','Labels']].tail()"
   ]
  },
  {
   "cell_type": "markdown",
   "metadata": {},
   "source": [
    " - Number of Uppercase : We find the number of uppercase words and compare them for both kinds of labels since it is known that extreme or biased views are expressed by writing in uppercase.\n"
   ]
  },
  {
   "cell_type": "code",
   "execution_count": 304,
   "metadata": {},
   "outputs": [
    {
     "data": {
      "text/html": [
       "<div>\n",
       "<style scoped>\n",
       "    .dataframe tbody tr th:only-of-type {\n",
       "        vertical-align: middle;\n",
       "    }\n",
       "\n",
       "    .dataframe tbody tr th {\n",
       "        vertical-align: top;\n",
       "    }\n",
       "\n",
       "    .dataframe thead th {\n",
       "        text-align: right;\n",
       "    }\n",
       "</style>\n",
       "<table border=\"1\" class=\"dataframe\">\n",
       "  <thead>\n",
       "    <tr style=\"text-align: right;\">\n",
       "      <th></th>\n",
       "      <th>Content</th>\n",
       "      <th>upper</th>\n",
       "      <th>Labels</th>\n",
       "    </tr>\n",
       "  </thead>\n",
       "  <tbody>\n",
       "    <tr>\n",
       "      <th>81</th>\n",
       "      <td>ISLAMABAD – Pakistan is set to become the firs...</td>\n",
       "      <td>4</td>\n",
       "      <td>1</td>\n",
       "    </tr>\n",
       "    <tr>\n",
       "      <th>82</th>\n",
       "      <td>Calls for enlisting missing women in voters’ l...</td>\n",
       "      <td>10</td>\n",
       "      <td>0</td>\n",
       "    </tr>\n",
       "    <tr>\n",
       "      <th>83</th>\n",
       "      <td>In Sindh party-cum-parochial needs override na...</td>\n",
       "      <td>12</td>\n",
       "      <td>1</td>\n",
       "    </tr>\n",
       "    <tr>\n",
       "      <th>84</th>\n",
       "      <td>PESHAWAR: Milli Muslim League  chief Professor...</td>\n",
       "      <td>20</td>\n",
       "      <td>0</td>\n",
       "    </tr>\n",
       "    <tr>\n",
       "      <th>9</th>\n",
       "      <td>RAWALPINDI: With the elections, just a few wee...</td>\n",
       "      <td>7</td>\n",
       "      <td>0</td>\n",
       "    </tr>\n",
       "  </tbody>\n",
       "</table>\n",
       "</div>"
      ],
      "text/plain": [
       "                                              Content  upper  Labels\n",
       "81  ISLAMABAD – Pakistan is set to become the firs...      4       1\n",
       "82  Calls for enlisting missing women in voters’ l...     10       0\n",
       "83  In Sindh party-cum-parochial needs override na...     12       1\n",
       "84  PESHAWAR: Milli Muslim League  chief Professor...     20       0\n",
       "9   RAWALPINDI: With the elections, just a few wee...      7       0"
      ]
     },
     "execution_count": 304,
     "metadata": {},
     "output_type": "execute_result"
    }
   ],
   "source": [
    "elections['upper'] = elections['Content'].apply(lambda x: len([x for x in x.split() if x.isupper()]))\n",
    "elections[['Content','upper','Labels']].tail()"
   ]
  },
  {
   "cell_type": "markdown",
   "metadata": {},
   "source": [
    "### Preprocessing"
   ]
  },
  {
   "cell_type": "markdown",
   "metadata": {},
   "source": [
    "##### Converting to lowercase"
   ]
  },
  {
   "cell_type": "code",
   "execution_count": 305,
   "metadata": {},
   "outputs": [
    {
     "data": {
      "text/plain": [
       "0     by news desk , the polling for by-elections on...\n",
       "1     lahore/islamabad/karachi: several political le...\n",
       "10    lahore: tehreek-e-labaik ya rasool allah leade...\n",
       "11    islamabad: the election commission of pakistan...\n",
       "12    islamabad: pakistan tehreek-e-insaf on monday ...\n",
       "Name: Content, dtype: object"
      ]
     },
     "execution_count": 305,
     "metadata": {},
     "output_type": "execute_result"
    }
   ],
   "source": [
    "elections['Content'] = elections['Content'].apply(lambda x: \" \".join(x.lower() for x in x.split()))\n",
    "elections['Content'].head()"
   ]
  },
  {
   "cell_type": "markdown",
   "metadata": {},
   "source": [
    "##### Removing Punctuation\n",
    " - This helps us reduce the size of the training data"
   ]
  },
  {
   "cell_type": "code",
   "execution_count": 306,
   "metadata": {},
   "outputs": [
    {
     "data": {
      "text/plain": [
       "0     by news desk  the polling for byelections on 3...\n",
       "1     lahoreislamabadkarachi several political leade...\n",
       "10    lahore tehreekelabaik ya rasool allah leader m...\n",
       "11    islamabad the election commission of pakistan ...\n",
       "12    islamabad pakistan tehreekeinsaf on monday iss...\n",
       "Name: Content, dtype: object"
      ]
     },
     "execution_count": 306,
     "metadata": {},
     "output_type": "execute_result"
    }
   ],
   "source": [
    "elections['Content'] = elections['Content'].str.replace('[^\\w\\s]','')\n",
    "elections['Content'].head()"
   ]
  },
  {
   "cell_type": "markdown",
   "metadata": {},
   "source": [
    "##### Removal of Stop Words"
   ]
  },
  {
   "cell_type": "code",
   "execution_count": 307,
   "metadata": {},
   "outputs": [
    {
     "data": {
      "text/plain": [
       "0     news desk polling byelections 35 national prov...\n",
       "1     lahoreislamabadkarachi several political leade...\n",
       "10    lahore tehreekelabaik ya rasool allah leader m...\n",
       "11    islamabad election commission pakistan wednesd...\n",
       "12    islamabad pakistan tehreekeinsaf monday issued...\n",
       "Name: Content, dtype: object"
      ]
     },
     "execution_count": 307,
     "metadata": {},
     "output_type": "execute_result"
    }
   ],
   "source": [
    "stop = stopwords.words('english')\n",
    "elections['Content'] = elections['Content'].apply(lambda x: \" \".join(x for x in x.split() if x not in stop))\n",
    "elections['Content'].head()"
   ]
  },
  {
   "cell_type": "markdown",
   "metadata": {},
   "source": [
    " ##### Common words removal\n",
    "  - We find the top 10 most commonly occuring words and remove it from the data since their presence will not be used in classification of our text data"
   ]
  },
  {
   "cell_type": "code",
   "execution_count": 309,
   "metadata": {},
   "outputs": [
    {
     "name": "stdout",
     "output_type": "stream",
     "text": [
      "2018          95\n",
      "candidates    87\n",
      "political     84\n",
      "also          84\n",
      "votes         83\n",
      "minister      69\n",
      "government    69\n",
      "people        64\n",
      "country       63\n",
      "media         61\n",
      "dtype: int64\n"
     ]
    }
   ],
   "source": [
    "f = pd.Series(' '.join(elections['Content']).split()).value_counts()[:10]\n",
    "print(f)\n",
    "f = list(f.index)\n",
    "elections['Content'] = elections['Content'].apply(lambda x: \" \".join(x for x in x.split() if x not in f))"
   ]
  },
  {
   "cell_type": "markdown",
   "metadata": {},
   "source": [
    "#####  Rare words removal\n",
    " - We remove these since the association between them and other words is dominated by noise."
   ]
  },
  {
   "cell_type": "code",
   "execution_count": 311,
   "metadata": {},
   "outputs": [
    {
     "name": "stdout",
     "output_type": "stream",
     "text": [
      "2370                      1\n",
      "na235                     1\n",
      "convened                  1\n",
      "nail                      1\n",
      "arabia                    1\n",
      "environmental             1\n",
      "ikhlas                    1\n",
      "seriously                 1\n",
      "ampampampampampampnbsp    1\n",
      "america                   1\n",
      "dtype: int64\n"
     ]
    }
   ],
   "source": [
    "f = pd.Series(' '.join(elections['Content']).split()).value_counts()[-10:]\n",
    "print(f)\n",
    "f = list(f.index)\n",
    "elections['Content'] = elections['Content'].apply(lambda x: \" \".join(x for x in x.split() if x not in f))"
   ]
  },
  {
   "cell_type": "code",
   "execution_count": 312,
   "metadata": {},
   "outputs": [
    {
     "data": {
      "text/html": [
       "<div>\n",
       "<style scoped>\n",
       "    .dataframe tbody tr th:only-of-type {\n",
       "        vertical-align: middle;\n",
       "    }\n",
       "\n",
       "    .dataframe tbody tr th {\n",
       "        vertical-align: top;\n",
       "    }\n",
       "\n",
       "    .dataframe thead th {\n",
       "        text-align: right;\n",
       "    }\n",
       "</style>\n",
       "<table border=\"1\" class=\"dataframe\">\n",
       "  <thead>\n",
       "    <tr style=\"text-align: right;\">\n",
       "      <th></th>\n",
       "      <th>Title</th>\n",
       "      <th>Link</th>\n",
       "      <th>Content</th>\n",
       "      <th>Labels</th>\n",
       "      <th>tokenized_text</th>\n",
       "      <th>word_count</th>\n",
       "      <th>numerics</th>\n",
       "      <th>upper</th>\n",
       "    </tr>\n",
       "  </thead>\n",
       "  <tbody>\n",
       "    <tr>\n",
       "      <th>0</th>\n",
       "      <td>LIVE: By-elections 2018 unofficial results</td>\n",
       "      <td>https://www.pakistantoday.com.pk/2018/10/14/li...</td>\n",
       "      <td>news desk polling byelections 35 national prov...</td>\n",
       "      <td>0</td>\n",
       "      <td>[by, News, Desk, ,, The, polling, for, by-elec...</td>\n",
       "      <td>782</td>\n",
       "      <td>60</td>\n",
       "      <td>46</td>\n",
       "    </tr>\n",
       "    <tr>\n",
       "      <th>1</th>\n",
       "      <td>Elections 2018: Political leaders, prominent p...</td>\n",
       "      <td>https://www.pakistantoday.com.pk/2018/07/25/el...</td>\n",
       "      <td>lahoreislamabadkarachi several leaders promine...</td>\n",
       "      <td>0</td>\n",
       "      <td>[LAHORE/ISLAMABAD/KARACHI, :, Several, politic...</td>\n",
       "      <td>278</td>\n",
       "      <td>0</td>\n",
       "      <td>13</td>\n",
       "    </tr>\n",
       "    <tr>\n",
       "      <th>10</th>\n",
       "      <td>Elections 2018: Appellate tribunal rejects Ash...</td>\n",
       "      <td>https://www.pakistantoday.com.pk/2018/06/28/el...</td>\n",
       "      <td>lahore tehreekelabaik ya rasool allah leader m...</td>\n",
       "      <td>0</td>\n",
       "      <td>[LAHORE, :, Tehreek-e-Labaik, Ya, Rasool, Alla...</td>\n",
       "      <td>222</td>\n",
       "      <td>2</td>\n",
       "      <td>5</td>\n",
       "    </tr>\n",
       "    <tr>\n",
       "      <th>11</th>\n",
       "      <td>Elections 2018: ECP issues guidelines for medi...</td>\n",
       "      <td>https://www.pakistantoday.com.pk/2018/06/27/el...</td>\n",
       "      <td>islamabad commission wednesday issued code con...</td>\n",
       "      <td>0</td>\n",
       "      <td>[ISLAMABAD, :, The, Election, Commission, of, ...</td>\n",
       "      <td>293</td>\n",
       "      <td>1</td>\n",
       "      <td>4</td>\n",
       "    </tr>\n",
       "    <tr>\n",
       "      <th>12</th>\n",
       "      <td>Elections 2018: PTI issues tickets to 13 femal...</td>\n",
       "      <td>https://www.pakistantoday.com.pk/2018/06/25/el...</td>\n",
       "      <td>islamabad tehreekeinsaf monday issued tickets ...</td>\n",
       "      <td>0</td>\n",
       "      <td>[ISLAMABAD, :, Pakistan, Tehreek-e-Insaf, on, ...</td>\n",
       "      <td>137</td>\n",
       "      <td>2</td>\n",
       "      <td>16</td>\n",
       "    </tr>\n",
       "  </tbody>\n",
       "</table>\n",
       "</div>"
      ],
      "text/plain": [
       "                                                Title  \\\n",
       "0          LIVE: By-elections 2018 unofficial results   \n",
       "1   Elections 2018: Political leaders, prominent p...   \n",
       "10  Elections 2018: Appellate tribunal rejects Ash...   \n",
       "11  Elections 2018: ECP issues guidelines for medi...   \n",
       "12  Elections 2018: PTI issues tickets to 13 femal...   \n",
       "\n",
       "                                                 Link  \\\n",
       "0   https://www.pakistantoday.com.pk/2018/10/14/li...   \n",
       "1   https://www.pakistantoday.com.pk/2018/07/25/el...   \n",
       "10  https://www.pakistantoday.com.pk/2018/06/28/el...   \n",
       "11  https://www.pakistantoday.com.pk/2018/06/27/el...   \n",
       "12  https://www.pakistantoday.com.pk/2018/06/25/el...   \n",
       "\n",
       "                                              Content  Labels  \\\n",
       "0   news desk polling byelections 35 national prov...       0   \n",
       "1   lahoreislamabadkarachi several leaders promine...       0   \n",
       "10  lahore tehreekelabaik ya rasool allah leader m...       0   \n",
       "11  islamabad commission wednesday issued code con...       0   \n",
       "12  islamabad tehreekeinsaf monday issued tickets ...       0   \n",
       "\n",
       "                                       tokenized_text  word_count  numerics  \\\n",
       "0   [by, News, Desk, ,, The, polling, for, by-elec...         782        60   \n",
       "1   [LAHORE/ISLAMABAD/KARACHI, :, Several, politic...         278         0   \n",
       "10  [LAHORE, :, Tehreek-e-Labaik, Ya, Rasool, Alla...         222         2   \n",
       "11  [ISLAMABAD, :, The, Election, Commission, of, ...         293         1   \n",
       "12  [ISLAMABAD, :, Pakistan, Tehreek-e-Insaf, on, ...         137         2   \n",
       "\n",
       "    upper  \n",
       "0      46  \n",
       "1      13  \n",
       "10      5  \n",
       "11      4  \n",
       "12     16  "
      ]
     },
     "execution_count": 312,
     "metadata": {},
     "output_type": "execute_result"
    }
   ],
   "source": [
    "elections.head()"
   ]
  },
  {
   "cell_type": "markdown",
   "metadata": {},
   "source": [
    "#### Train Test Split"
   ]
  },
  {
   "cell_type": "code",
   "execution_count": 313,
   "metadata": {},
   "outputs": [
    {
     "name": "stdout",
     "output_type": "stream",
     "text": [
      "X_train 68\n",
      "X_test 17\n",
      "y_train 68\n",
      "y_test 17\n"
     ]
    }
   ],
   "source": [
    "train, test = train_test_split(elections, test_size=0.2, random_state=42)\n",
    "X_train = train['Content'].values\n",
    "X_test = test['Content'].values\n",
    "y_train = train['Labels']\n",
    "y_test = test['Labels']\n",
    "print('X_train',len(X_train))\n",
    "print('X_test',len(X_test))\n",
    "print('y_train',len(y_train))\n",
    "print('y_test',len(X_test))"
   ]
  },
  {
   "cell_type": "markdown",
   "metadata": {},
   "source": [
    " -  We use countvectorizer to find the bag of words feature vector"
   ]
  },
  {
   "cell_type": "code",
   "execution_count": 314,
   "metadata": {},
   "outputs": [
    {
     "name": "stdout",
     "output_type": "stream",
     "text": [
      "(68, 3775)\n"
     ]
    }
   ],
   "source": [
    "bow = CountVectorizer(lowercase=True, ngram_range=(1,1),analyzer = \"word\")\n",
    "features_train = bow.fit_transform(X_train)\n",
    "features_test = bow.transform(X_test)\n",
    "print(features_train.shape)\n",
    "# print(\"Every feature:\\n{}\".format(bow.get_feature_names()))"
   ]
  },
  {
   "cell_type": "markdown",
   "metadata": {},
   "source": [
    "##### Using N-gram feature vector where N = 2"
   ]
  },
  {
   "cell_type": "code",
   "execution_count": 316,
   "metadata": {},
   "outputs": [
    {
     "name": "stdout",
     "output_type": "stream",
     "text": [
      "(68, 12810)\n"
     ]
    }
   ],
   "source": [
    "count_vec = CountVectorizer(stop_words=\"english\", analyzer='word',  ngram_range=(1, 2), max_df=1.0, min_df=1, max_features=None)\n",
    "features_train = count_vec.fit_transform(X_train)\n",
    "features_test = count_vec.transform(X_test)\n",
    "print(features_train.shape)\n",
    "# print(count_vec.get_feature_names())\n"
   ]
  },
  {
   "cell_type": "markdown",
   "metadata": {},
   "source": [
    " - We tried the above feature vectors with Naive Bayes, Logistic Regression and SVM but the performance was poor. Hence we do not carry any further analysis on this."
   ]
  },
  {
   "cell_type": "code",
   "execution_count": 317,
   "metadata": {},
   "outputs": [],
   "source": [
    "models = ['NB','LR','SVM']\n",
    "accuracies =[] \n",
    "mse = []"
   ]
  },
  {
   "cell_type": "markdown",
   "metadata": {},
   "source": [
    "##### NaiveBayes"
   ]
  },
  {
   "cell_type": "code",
   "execution_count": 318,
   "metadata": {},
   "outputs": [
    {
     "name": "stdout",
     "output_type": "stream",
     "text": [
      "              precision    recall  f1-score   support\n",
      "\n",
      "           0       0.89      0.62      0.73        13\n",
      "           1       0.38      0.75      0.50         4\n",
      "\n",
      "   micro avg       0.65      0.65      0.65        17\n",
      "   macro avg       0.63      0.68      0.61        17\n",
      "weighted avg       0.77      0.65      0.67        17\n",
      "\n",
      "Naive Bayes Accuracy 0.6470588235294118\n",
      "MSE 0.35294117647058826\n"
     ]
    }
   ],
   "source": [
    "model = MultinomialNB().fit(features_train, y_train)\n",
    "predicted = model.predict(features_test)\n",
    "print(classification_report(predicted,y_test))\n",
    "accuracy = model.score(features_test, y_test)\n",
    "print('Naive Bayes Accuracy',accuracy)\n",
    "error = mean_squared_error(y_test, predicted)\n",
    "print('MSE',error)\n",
    "accuracies.append(accuracy)\n",
    "mse.append(error)"
   ]
  },
  {
   "cell_type": "code",
   "execution_count": 319,
   "metadata": {},
   "outputs": [
    {
     "data": {
      "image/png": "[encoded data removed]",
      "text/plain": [
       "<Figure size 720x720 with 2 Axes>"
      ]
     },
     "metadata": {
      "needs_background": "light"
     },
     "output_type": "display_data"
    }
   ],
   "source": [
    "confusion_matrix= cm(y_test, predicted)\n",
    "fig, ax = plt.subplots(figsize=(10,10))\n",
    "sns.heatmap(confusion_matrix, annot=True, fmt='d')\n",
    "plt.ylabel('Actual')\n",
    "plt.xlabel('Predicted')\n",
    "plt.show()"
   ]
  },
  {
   "cell_type": "markdown",
   "metadata": {},
   "source": [
    " - We used Stochastic gradient descent with logistic regression. Ridge regularization is used which is denoted by l2. The following hyperparameters generate the optimum results for this model. Log loss is representing logistic regression."
   ]
  },
  {
   "cell_type": "code",
   "execution_count": 320,
   "metadata": {},
   "outputs": [
    {
     "name": "stderr",
     "output_type": "stream",
     "text": [
      "C:\\Users\\tooba\\Anaconda3\\lib\\site-packages\\sklearn\\linear_model\\stochastic_gradient.py:130: DeprecationWarning: n_iter parameter is deprecated in 0.19 and will be removed in 0.21. Use max_iter and tol instead.\n",
      "  DeprecationWarning)\n"
     ]
    },
    {
     "name": "stdout",
     "output_type": "stream",
     "text": [
      "              precision    recall  f1-score   support\n",
      "\n",
      "           0       0.67      0.60      0.63        10\n",
      "           1       0.50      0.57      0.53         7\n",
      "\n",
      "   micro avg       0.59      0.59      0.59        17\n",
      "   macro avg       0.58      0.59      0.58        17\n",
      "weighted avg       0.60      0.59      0.59        17\n",
      "\n",
      "Logistic Regression Accuracy 0.5882352941176471\n",
      "MSE 0.4117647058823529\n"
     ]
    }
   ],
   "source": [
    "model= SGDClassifier(loss='log', penalty='l2', alpha=1e-3, n_iter=5, random_state=42)\n",
    "model.fit(features_train, y_train)\n",
    "predicted_svm = model.predict(features_test)\n",
    "accuracy = model.score(features_test, y_test)\n",
    "print(classification_report(predicted_svm,y_test))\n",
    "error = mean_squared_error(y_test, predicted_svm)\n",
    "print('Logistic Regression Accuracy',accuracy)\n",
    "accuracies.append(accuracy)\n",
    "print('MSE',error)"
   ]
  },
  {
   "cell_type": "code",
   "execution_count": 321,
   "metadata": {},
   "outputs": [
    {
     "data": {
      "image/png": "[encoded data removed]",
      "text/plain": [
       "<Figure size 720x360 with 2 Axes>"
      ]
     },
     "metadata": {
      "needs_background": "light"
     },
     "output_type": "display_data"
    }
   ],
   "source": [
    "confusion_matrix= cm(y_test, predicted_svm)\n",
    "fig, ax = plt.subplots(figsize=(10,5))\n",
    "sns.heatmap(confusion_matrix, annot=True, fmt='d')\n",
    "plt.ylabel('Actual')\n",
    "plt.xlabel('Predicted')\n",
    "plt.show()"
   ]
  },
  {
   "cell_type": "markdown",
   "metadata": {},
   "source": [
    "##### Support Vector Machine\n",
    " - We trained linear SVM wit ridge regularization"
   ]
  },
  {
   "cell_type": "code",
   "execution_count": 322,
   "metadata": {},
   "outputs": [
    {
     "name": "stderr",
     "output_type": "stream",
     "text": [
      "C:\\Users\\tooba\\Anaconda3\\lib\\site-packages\\sklearn\\linear_model\\stochastic_gradient.py:130: DeprecationWarning: n_iter parameter is deprecated in 0.19 and will be removed in 0.21. Use max_iter and tol instead.\n",
      "  DeprecationWarning)\n"
     ]
    },
    {
     "name": "stdout",
     "output_type": "stream",
     "text": [
      "              precision    recall  f1-score   support\n",
      "\n",
      "           0       0.56      0.62      0.59         8\n",
      "           1       0.62      0.56      0.59         9\n",
      "\n",
      "   micro avg       0.59      0.59      0.59        17\n",
      "   macro avg       0.59      0.59      0.59        17\n",
      "weighted avg       0.59      0.59      0.59        17\n",
      "\n",
      "SVM Accuracy 0.5882352941176471\n",
      "MSE 0.4117647058823529\n"
     ]
    }
   ],
   "source": [
    "model= SGDClassifier(loss='hinge', penalty='l2', alpha=1e-3, n_iter=5, random_state=42)\n",
    "model.fit(features_train, y_train)\n",
    "predicted_svm = model.predict(features_test)\n",
    "print(classification_report(predicted_svm,y_test))\n",
    "accuracy = model.score(features_test, y_test)\n",
    "error = mean_squared_error(y_test, predicted_svm)\n",
    "print('SVM Accuracy',accuracy)\n",
    "print('MSE',error)\n",
    "accuracies.append(accuracy)\n",
    "# # Model Precision: what percentage of positive tuples are labeled as such?\n",
    "# Model Recall: what percentage of positive tuples are labelled as such?"
   ]
  },
  {
   "cell_type": "code",
   "execution_count": 323,
   "metadata": {},
   "outputs": [
    {
     "data": {
      "image/png": "[encoded data removed]",
      "text/plain": [
       "<Figure size 720x360 with 2 Axes>"
      ]
     },
     "metadata": {
      "needs_background": "light"
     },
     "output_type": "display_data"
    }
   ],
   "source": [
    "confusion_matrix= cm(y_test, predicted_svm)\n",
    "fig, ax = plt.subplots(figsize=(10,5))\n",
    "sns.heatmap(confusion_matrix, annot=True, fmt='d')\n",
    "plt.ylabel('Actual')\n",
    "plt.xlabel('Predicted')\n",
    "plt.show()"
   ]
  },
  {
   "cell_type": "code",
   "execution_count": 324,
   "metadata": {},
   "outputs": [
    {
     "data": {
      "image/png": "[encoded data removed]",
      "text/plain": [
       "<Figure size 432x288 with 1 Axes>"
      ]
     },
     "metadata": {
      "needs_background": "light"
     },
     "output_type": "display_data"
    }
   ],
   "source": [
    "information = {'Model':models, \n",
    "        'Accuracy':accuracies}\n",
    "data = pd.DataFrame(data=information)\n",
    "\n",
    "sns.boxplot(x='Model', y='Accuracy', data=data)\n",
    "sns.stripplot(x='Model', y='Accuracy', data=data, size=10, jitter=True, edgecolor=\"gray\", linewidth=2)\n",
    "plt.show()"
   ]
  },
  {
   "cell_type": "markdown",
   "metadata": {},
   "source": [
    " -  We can see from the above plot that NB performs the best among 3 models when feature vector is \n",
    "  bag of words"
   ]
  },
  {
   "cell_type": "markdown",
   "metadata": {},
   "source": [
    "#### Data distribution"
   ]
  },
  {
   "cell_type": "code",
   "execution_count": 327,
   "metadata": {},
   "outputs": [
    {
     "data": {
      "text/plain": [
       "Text(0,0.5,'Count')"
      ]
     },
     "execution_count": 327,
     "metadata": {},
     "output_type": "execute_result"
    },
    {
     "data": {
      "image/png": "[encoded data removed]",
      "text/plain": [
       "<Figure size 600x400 with 1 Axes>"
      ]
     },
     "metadata": {
      "needs_background": "light"
     },
     "output_type": "display_data"
    }
   ],
   "source": [
    "fig = plt.figure(figsize=(15,10), dpi=40)\n",
    "sns.countplot(x=\"Labels\", data=elections)\n",
    "plt.title('Data distribution',fontsize = 40)\n",
    "plt.ylabel('Count',fontsize = 30)"
   ]
  },
  {
   "cell_type": "code",
   "execution_count": 328,
   "metadata": {},
   "outputs": [
    {
     "name": "stdout",
     "output_type": "stream",
     "text": [
      "percentage of unbiased 63.52941176470588\n",
      "percentage of biased 36.470588235294116\n"
     ]
    }
   ],
   "source": [
    "count_unbiased = len(elections[elections['Labels']==0])\n",
    "count_biased = len(elections[elections['Labels']==1])\n",
    "pct_of_unbiased = count_unbiased/(count_unbiased+count_biased)\n",
    "print(\"percentage of unbiased\", pct_of_unbiased*100)\n",
    "pct_of_biased = count_biased /(count_unbiased+count_biased)\n",
    "print(\"percentage of biased\", pct_of_biased*100)"
   ]
  },
  {
   "cell_type": "markdown",
   "metadata": {},
   "source": [
    " - Our classes are imbalanced, and the ratio of unbiased to biased instances is 64:36. So we do oversampling and generate synthetic data to increase the number of samples in the dataset. We are basically increasing the minority class which is the biased class based upon the existing minority observations.\n",
    " - We first find the n-nearest neighbors in the minority class for each of the samples in the class . Then it draws a line between the the neighbors and generates random points on the lines.\n"
   ]
  },
  {
   "cell_type": "code",
   "execution_count": 329,
   "metadata": {},
   "outputs": [
    {
     "name": "stdout",
     "output_type": "stream",
     "text": [
      "Number of unbiased in original data 54\n",
      "Number of biased in original data 31\n"
     ]
    }
   ],
   "source": [
    "print(\"Number of unbiased in original data\",len(elections[elections['Labels']==0]))\n",
    "print(\"Number of biased in original data\",len(elections[elections['Labels']==1]))"
   ]
  },
  {
   "cell_type": "markdown",
   "metadata": {},
   "source": [
    " - We split the dataset to be used in oversampling"
   ]
  },
  {
   "cell_type": "code",
   "execution_count": 331,
   "metadata": {},
   "outputs": [
    {
     "name": "stdout",
     "output_type": "stream",
     "text": [
      "X_train 68\n",
      "X_test 17\n",
      "y_train 68\n",
      "y_test 17\n"
     ]
    }
   ],
   "source": [
    "train, test = train_test_split(elections, test_size=0.2, random_state=42)\n",
    "X_train = train['Content'].values\n",
    "X_test = test['Content'].values\n",
    "y_train = train['Labels']\n",
    "y_test = test['Labels']\n",
    "print('X_train',len(X_train))\n",
    "print('X_test',len(X_test))\n",
    "print('y_train',len(y_train))\n",
    "print('y_test',len(X_test))"
   ]
  },
  {
   "cell_type": "markdown",
   "metadata": {},
   "source": [
    " - We use the same preprocessed dataset as before"
   ]
  },
  {
   "cell_type": "code",
   "execution_count": 334,
   "metadata": {},
   "outputs": [
    {
     "name": "stdout",
     "output_type": "stream",
     "text": [
      "length of oversampled data is  90\n",
      "Number of unbiased in oversampled data 45\n",
      "Number of biased in oversampled data 45\n"
     ]
    }
   ],
   "source": [
    "from imblearn.over_sampling import SMOTE\n",
    "# Use same preprocessing as previous\n",
    "X = elections[['Content']]\n",
    "y= elections.loc[:, elections.columns == 'Labels']\n",
    "y =np.ravel(y)\n",
    "os = SMOTE(ratio = 'minority')\n",
    "bow = CountVectorizer(lowercase=True,analyzer = \"word\")\n",
    "features_train = bow.fit_transform(X_train)\n",
    "features_test = bow.transform(X_test)\n",
    "os_data_X,os_data_y=os.fit_sample(features_train, y_train)\n",
    "os_data_y= pd.DataFrame(data=os_data_y,columns=['Labels'])\n",
    "print(\"length of oversampled data is \",len(os_data_y))\n",
    "print(\"Number of unbiased in oversampled data\",len(os_data_y[os_data_y['Labels']==0]))\n",
    "print(\"Number of biased in oversampled data\",len(os_data_y[os_data_y['Labels']==1]))"
   ]
  },
  {
   "cell_type": "code",
   "execution_count": 335,
   "metadata": {},
   "outputs": [],
   "source": [
    "X_train, X_test, y_train,y_test = train_test_split(os_data_X,os_data_y, test_size=0.2, random_state=42)"
   ]
  },
  {
   "cell_type": "markdown",
   "metadata": {},
   "source": [
    " - Now we have the balanced dataset.  \n",
    " - We now perform all the previous techniques using bag of words as feature vector and all previous models"
   ]
  },
  {
   "cell_type": "code",
   "execution_count": 340,
   "metadata": {},
   "outputs": [
    {
     "name": "stderr",
     "output_type": "stream",
     "text": [
      "C:\\Users\\tooba\\Anaconda3\\lib\\site-packages\\sklearn\\linear_model\\stochastic_gradient.py:130: DeprecationWarning: n_iter parameter is deprecated in 0.19 and will be removed in 0.21. Use max_iter and tol instead.\n",
      "  DeprecationWarning)\n",
      "C:\\Users\\tooba\\Anaconda3\\lib\\site-packages\\sklearn\\utils\\validation.py:752: DataConversionWarning: A column-vector y was passed when a 1d array was expected. Please change the shape of y to (n_samples, ), for example using ravel().\n",
      "  y = column_or_1d(y, warn=True)\n"
     ]
    },
    {
     "name": "stdout",
     "output_type": "stream",
     "text": [
      "              precision    recall  f1-score   support\n",
      "\n",
      "           0       0.78      0.78      0.78         9\n",
      "           1       0.78      0.78      0.78         9\n",
      "\n",
      "   micro avg       0.78      0.78      0.78        18\n",
      "   macro avg       0.78      0.78      0.78        18\n",
      "weighted avg       0.78      0.78      0.78        18\n",
      "\n",
      "SVM Accuracy 0.7777777777777778\n",
      "MSE 0.2222222222222222\n"
     ]
    }
   ],
   "source": [
    "model_test= SGDClassifier(loss='hinge', penalty='l1', alpha=1e-3, n_iter=5, random_state=42)\n",
    "model_test.fit(X_train, y_train)\n",
    "predicted_svm = model_test.predict(X_test)\n",
    "print(classification_report(predicted_svm,y_test))\n",
    "accuracy = model_test.score(X_test, y_test)\n",
    "error = mean_squared_error(y_test, predicted_svm)\n",
    "print('SVM Accuracy',accuracy)\n",
    "print('MSE',error)\n",
    "accuracies.append(accuracy)"
   ]
  },
  {
   "cell_type": "markdown",
   "metadata": {},
   "source": [
    " - We can now observe that our accuracy increased from 70% to 77% after oversampling the data. \n",
    " - Without oversampling and using TDIF as feature vector we achieved best results with logistic regression and ridge regularization\n",
    " - With oversampling and using bag of words as feature vector we achieved best results with svm and lasso regularization"
   ]
  },
  {
   "cell_type": "markdown",
   "metadata": {},
   "source": [
    "  -  We take the label corresponding to index 3 from our test data and check the input URL. \n",
    "  - We then feed the input url (in the form of features) to our model whuich predicts a label.\n",
    "  - The model outputs articles which have an opposite label to the input URL. "
   ]
  },
  {
   "cell_type": "code",
   "execution_count": 365,
   "metadata": {},
   "outputs": [
    {
     "name": "stdout",
     "output_type": "stream",
     "text": [
      "Input url https://www.pakistantoday.com.pk/2018/01/15/shadow-of-uncertainty-looms-large-over-2018-general-elections-siraj/\n"
     ]
    }
   ],
   "source": [
    "input_url = elections['Link'][70]\n",
    "print('Input url',input_url)"
   ]
  },
  {
   "cell_type": "code",
   "execution_count": 367,
   "metadata": {},
   "outputs": [
    {
     "name": "stdout",
     "output_type": "stream",
     "text": [
      "True label Labels    1\n",
      "Name: 70, dtype: int64\n",
      "Predicted label [1]\n",
      "Length of returning data is: 54\n",
      "The following is the list of the returned article links\n"
     ]
    },
    {
     "data": {
      "text/html": [
       "<div>\n",
       "<style scoped>\n",
       "    .dataframe tbody tr th:only-of-type {\n",
       "        vertical-align: middle;\n",
       "    }\n",
       "\n",
       "    .dataframe tbody tr th {\n",
       "        vertical-align: top;\n",
       "    }\n",
       "\n",
       "    .dataframe thead th {\n",
       "        text-align: right;\n",
       "    }\n",
       "</style>\n",
       "<table border=\"1\" class=\"dataframe\">\n",
       "  <thead>\n",
       "    <tr style=\"text-align: right;\">\n",
       "      <th></th>\n",
       "      <th>Link</th>\n",
       "      <th>Labels</th>\n",
       "    </tr>\n",
       "  </thead>\n",
       "  <tbody>\n",
       "    <tr>\n",
       "      <th>0</th>\n",
       "      <td>https://www.pakistantoday.com.pk/2018/10/14/li...</td>\n",
       "      <td>0</td>\n",
       "    </tr>\n",
       "    <tr>\n",
       "      <th>1</th>\n",
       "      <td>https://www.pakistantoday.com.pk/2018/07/25/el...</td>\n",
       "      <td>0</td>\n",
       "    </tr>\n",
       "    <tr>\n",
       "      <th>10</th>\n",
       "      <td>https://www.pakistantoday.com.pk/2018/06/28/el...</td>\n",
       "      <td>0</td>\n",
       "    </tr>\n",
       "    <tr>\n",
       "      <th>11</th>\n",
       "      <td>https://www.pakistantoday.com.pk/2018/06/27/el...</td>\n",
       "      <td>0</td>\n",
       "    </tr>\n",
       "    <tr>\n",
       "      <th>12</th>\n",
       "      <td>https://www.pakistantoday.com.pk/2018/06/25/el...</td>\n",
       "      <td>0</td>\n",
       "    </tr>\n",
       "  </tbody>\n",
       "</table>\n",
       "</div>"
      ],
      "text/plain": [
       "                                                 Link  Labels\n",
       "0   https://www.pakistantoday.com.pk/2018/10/14/li...       0\n",
       "1   https://www.pakistantoday.com.pk/2018/07/25/el...       0\n",
       "10  https://www.pakistantoday.com.pk/2018/06/28/el...       0\n",
       "11  https://www.pakistantoday.com.pk/2018/06/27/el...       0\n",
       "12  https://www.pakistantoday.com.pk/2018/06/25/el...       0"
      ]
     },
     "execution_count": 367,
     "metadata": {},
     "output_type": "execute_result"
    }
   ],
   "source": [
    "predicted_label = model_test.predict(X_test[3])\n",
    "true_label = y_test.iloc[3]\n",
    "print('True label',true_label)\n",
    "print('Predicted label',predicted_label)\n",
    "filtered_data = elections[elections['Labels']!=1]\n",
    "filtered_data = filtered_data[['Link','Labels']]\n",
    "print('Length of returning data is:',len(filtered_data))\n",
    "print('The following is the list of the returned article links')\n",
    "filtered_data.head()"
   ]
  },
  {
   "cell_type": "code",
   "execution_count": null,
   "metadata": {},
   "outputs": [],
   "source": []
  }
 ],
 "metadata": {
  "kernelspec": {
   "display_name": "Python 3",
   "language": "python",
   "name": "python3"
  },
  "language_info": {
   "codemirror_mode": {
    "name": "ipython",
    "version": 3
   },
   "file_extension": ".py",
   "mimetype": "text/x-python",
   "name": "python",
   "nbconvert_exporter": "python",
   "pygments_lexer": "ipython3",
   "version": "3.6.6"
  }
 },
 "nbformat": 4,
 "nbformat_minor": 2
}
